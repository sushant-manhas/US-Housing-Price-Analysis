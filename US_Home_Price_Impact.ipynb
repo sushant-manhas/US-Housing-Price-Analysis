{
  "nbformat": 4,
  "nbformat_minor": 0,
  "metadata": {
    "colab": {
      "provenance": []
    },
    "kernelspec": {
      "name": "python3",
      "display_name": "Python 3"
    },
    "language_info": {
      "name": "python"
    }
  },
  "cells": [
    {
      "cell_type": "code",
      "execution_count": null,
      "metadata": {
        "id": "LzeRfRsKVD2H"
      },
      "outputs": [],
      "source": [
        "import pandas as pd"
      ]
    },
    {
      "cell_type": "markdown",
      "source": [
        "# Importing the Final Dataset"
      ],
      "metadata": {
        "id": "09yYpJ4l1B45"
      }
    },
    {
      "cell_type": "code",
      "source": [
        "final_df = pd.read_csv(\"/content/drive/MyDrive/Housing Datasets/Dataframe_final.csv\")\n",
        "final_df.head()"
      ],
      "metadata": {
        "colab": {
          "base_uri": "https://localhost:8080/",
          "height": 206
        },
        "id": "hIbSoSv1V7z0",
        "outputId": "fd938cb3-58ea-4117-8b34-047a782eb063"
      },
      "execution_count": null,
      "outputs": [
        {
          "output_type": "execute_result",
          "data": {
            "text/plain": [
              "         DATE  Population  Interest Rate  Inflation  Unemployment Percentage  \\\n",
              "0  2003-01-01    219897.0         5.9160   1.754286                      5.8   \n",
              "1  2003-02-01    220114.0         5.8425   1.912632                      5.9   \n",
              "2  2003-03-01    220317.0         5.7450   1.862857                      5.9   \n",
              "3  2003-04-01    220540.0         5.8125   1.774762                      6.0   \n",
              "4  2003-05-01    220768.0         5.4840   1.660952                      6.1   \n",
              "\n",
              "   Median Family Income   SP500        GDP  CSUSHPISA  \n",
              "0               43320.0   855.7  11174.129    128.461  \n",
              "1               43320.0  841.15  11174.129    129.355  \n",
              "2               43320.0  848.18  11174.129    130.148  \n",
              "3               43320.0  916.92  11312.766    130.884  \n",
              "4               43320.0  963.59  11312.766    131.735  "
            ],
            "text/html": [
              "\n",
              "  <div id=\"df-ccd6bb4a-8728-4d06-a81e-b5bca65162ee\" class=\"colab-df-container\">\n",
              "    <div>\n",
              "<style scoped>\n",
              "    .dataframe tbody tr th:only-of-type {\n",
              "        vertical-align: middle;\n",
              "    }\n",
              "\n",
              "    .dataframe tbody tr th {\n",
              "        vertical-align: top;\n",
              "    }\n",
              "\n",
              "    .dataframe thead th {\n",
              "        text-align: right;\n",
              "    }\n",
              "</style>\n",
              "<table border=\"1\" class=\"dataframe\">\n",
              "  <thead>\n",
              "    <tr style=\"text-align: right;\">\n",
              "      <th></th>\n",
              "      <th>DATE</th>\n",
              "      <th>Population</th>\n",
              "      <th>Interest Rate</th>\n",
              "      <th>Inflation</th>\n",
              "      <th>Unemployment Percentage</th>\n",
              "      <th>Median Family Income</th>\n",
              "      <th>SP500</th>\n",
              "      <th>GDP</th>\n",
              "      <th>CSUSHPISA</th>\n",
              "    </tr>\n",
              "  </thead>\n",
              "  <tbody>\n",
              "    <tr>\n",
              "      <th>0</th>\n",
              "      <td>2003-01-01</td>\n",
              "      <td>219897.0</td>\n",
              "      <td>5.9160</td>\n",
              "      <td>1.754286</td>\n",
              "      <td>5.8</td>\n",
              "      <td>43320.0</td>\n",
              "      <td>855.7</td>\n",
              "      <td>11174.129</td>\n",
              "      <td>128.461</td>\n",
              "    </tr>\n",
              "    <tr>\n",
              "      <th>1</th>\n",
              "      <td>2003-02-01</td>\n",
              "      <td>220114.0</td>\n",
              "      <td>5.8425</td>\n",
              "      <td>1.912632</td>\n",
              "      <td>5.9</td>\n",
              "      <td>43320.0</td>\n",
              "      <td>841.15</td>\n",
              "      <td>11174.129</td>\n",
              "      <td>129.355</td>\n",
              "    </tr>\n",
              "    <tr>\n",
              "      <th>2</th>\n",
              "      <td>2003-03-01</td>\n",
              "      <td>220317.0</td>\n",
              "      <td>5.7450</td>\n",
              "      <td>1.862857</td>\n",
              "      <td>5.9</td>\n",
              "      <td>43320.0</td>\n",
              "      <td>848.18</td>\n",
              "      <td>11174.129</td>\n",
              "      <td>130.148</td>\n",
              "    </tr>\n",
              "    <tr>\n",
              "      <th>3</th>\n",
              "      <td>2003-04-01</td>\n",
              "      <td>220540.0</td>\n",
              "      <td>5.8125</td>\n",
              "      <td>1.774762</td>\n",
              "      <td>6.0</td>\n",
              "      <td>43320.0</td>\n",
              "      <td>916.92</td>\n",
              "      <td>11312.766</td>\n",
              "      <td>130.884</td>\n",
              "    </tr>\n",
              "    <tr>\n",
              "      <th>4</th>\n",
              "      <td>2003-05-01</td>\n",
              "      <td>220768.0</td>\n",
              "      <td>5.4840</td>\n",
              "      <td>1.660952</td>\n",
              "      <td>6.1</td>\n",
              "      <td>43320.0</td>\n",
              "      <td>963.59</td>\n",
              "      <td>11312.766</td>\n",
              "      <td>131.735</td>\n",
              "    </tr>\n",
              "  </tbody>\n",
              "</table>\n",
              "</div>\n",
              "    <div class=\"colab-df-buttons\">\n",
              "\n",
              "  <div class=\"colab-df-container\">\n",
              "    <button class=\"colab-df-convert\" onclick=\"convertToInteractive('df-ccd6bb4a-8728-4d06-a81e-b5bca65162ee')\"\n",
              "            title=\"Convert this dataframe to an interactive table.\"\n",
              "            style=\"display:none;\">\n",
              "\n",
              "  <svg xmlns=\"http://www.w3.org/2000/svg\" height=\"24px\" viewBox=\"0 -960 960 960\">\n",
              "    <path d=\"M120-120v-720h720v720H120Zm60-500h600v-160H180v160Zm220 220h160v-160H400v160Zm0 220h160v-160H400v160ZM180-400h160v-160H180v160Zm440 0h160v-160H620v160ZM180-180h160v-160H180v160Zm440 0h160v-160H620v160Z\"/>\n",
              "  </svg>\n",
              "    </button>\n",
              "\n",
              "  <style>\n",
              "    .colab-df-container {\n",
              "      display:flex;\n",
              "      gap: 12px;\n",
              "    }\n",
              "\n",
              "    .colab-df-convert {\n",
              "      background-color: #E8F0FE;\n",
              "      border: none;\n",
              "      border-radius: 50%;\n",
              "      cursor: pointer;\n",
              "      display: none;\n",
              "      fill: #1967D2;\n",
              "      height: 32px;\n",
              "      padding: 0 0 0 0;\n",
              "      width: 32px;\n",
              "    }\n",
              "\n",
              "    .colab-df-convert:hover {\n",
              "      background-color: #E2EBFA;\n",
              "      box-shadow: 0px 1px 2px rgba(60, 64, 67, 0.3), 0px 1px 3px 1px rgba(60, 64, 67, 0.15);\n",
              "      fill: #174EA6;\n",
              "    }\n",
              "\n",
              "    .colab-df-buttons div {\n",
              "      margin-bottom: 4px;\n",
              "    }\n",
              "\n",
              "    [theme=dark] .colab-df-convert {\n",
              "      background-color: #3B4455;\n",
              "      fill: #D2E3FC;\n",
              "    }\n",
              "\n",
              "    [theme=dark] .colab-df-convert:hover {\n",
              "      background-color: #434B5C;\n",
              "      box-shadow: 0px 1px 3px 1px rgba(0, 0, 0, 0.15);\n",
              "      filter: drop-shadow(0px 1px 2px rgba(0, 0, 0, 0.3));\n",
              "      fill: #FFFFFF;\n",
              "    }\n",
              "  </style>\n",
              "\n",
              "    <script>\n",
              "      const buttonEl =\n",
              "        document.querySelector('#df-ccd6bb4a-8728-4d06-a81e-b5bca65162ee button.colab-df-convert');\n",
              "      buttonEl.style.display =\n",
              "        google.colab.kernel.accessAllowed ? 'block' : 'none';\n",
              "\n",
              "      async function convertToInteractive(key) {\n",
              "        const element = document.querySelector('#df-ccd6bb4a-8728-4d06-a81e-b5bca65162ee');\n",
              "        const dataTable =\n",
              "          await google.colab.kernel.invokeFunction('convertToInteractive',\n",
              "                                                    [key], {});\n",
              "        if (!dataTable) return;\n",
              "\n",
              "        const docLinkHtml = 'Like what you see? Visit the ' +\n",
              "          '<a target=\"_blank\" href=https://colab.research.google.com/notebooks/data_table.ipynb>data table notebook</a>'\n",
              "          + ' to learn more about interactive tables.';\n",
              "        element.innerHTML = '';\n",
              "        dataTable['output_type'] = 'display_data';\n",
              "        await google.colab.output.renderOutput(dataTable, element);\n",
              "        const docLink = document.createElement('div');\n",
              "        docLink.innerHTML = docLinkHtml;\n",
              "        element.appendChild(docLink);\n",
              "      }\n",
              "    </script>\n",
              "  </div>\n",
              "\n",
              "\n",
              "<div id=\"df-bbca56bf-8068-4b56-ae40-d5676a0461f8\">\n",
              "  <button class=\"colab-df-quickchart\" onclick=\"quickchart('df-bbca56bf-8068-4b56-ae40-d5676a0461f8')\"\n",
              "            title=\"Suggest charts\"\n",
              "            style=\"display:none;\">\n",
              "\n",
              "<svg xmlns=\"http://www.w3.org/2000/svg\" height=\"24px\"viewBox=\"0 0 24 24\"\n",
              "     width=\"24px\">\n",
              "    <g>\n",
              "        <path d=\"M19 3H5c-1.1 0-2 .9-2 2v14c0 1.1.9 2 2 2h14c1.1 0 2-.9 2-2V5c0-1.1-.9-2-2-2zM9 17H7v-7h2v7zm4 0h-2V7h2v10zm4 0h-2v-4h2v4z\"/>\n",
              "    </g>\n",
              "</svg>\n",
              "  </button>\n",
              "\n",
              "<style>\n",
              "  .colab-df-quickchart {\n",
              "      --bg-color: #E8F0FE;\n",
              "      --fill-color: #1967D2;\n",
              "      --hover-bg-color: #E2EBFA;\n",
              "      --hover-fill-color: #174EA6;\n",
              "      --disabled-fill-color: #AAA;\n",
              "      --disabled-bg-color: #DDD;\n",
              "  }\n",
              "\n",
              "  [theme=dark] .colab-df-quickchart {\n",
              "      --bg-color: #3B4455;\n",
              "      --fill-color: #D2E3FC;\n",
              "      --hover-bg-color: #434B5C;\n",
              "      --hover-fill-color: #FFFFFF;\n",
              "      --disabled-bg-color: #3B4455;\n",
              "      --disabled-fill-color: #666;\n",
              "  }\n",
              "\n",
              "  .colab-df-quickchart {\n",
              "    background-color: var(--bg-color);\n",
              "    border: none;\n",
              "    border-radius: 50%;\n",
              "    cursor: pointer;\n",
              "    display: none;\n",
              "    fill: var(--fill-color);\n",
              "    height: 32px;\n",
              "    padding: 0;\n",
              "    width: 32px;\n",
              "  }\n",
              "\n",
              "  .colab-df-quickchart:hover {\n",
              "    background-color: var(--hover-bg-color);\n",
              "    box-shadow: 0 1px 2px rgba(60, 64, 67, 0.3), 0 1px 3px 1px rgba(60, 64, 67, 0.15);\n",
              "    fill: var(--button-hover-fill-color);\n",
              "  }\n",
              "\n",
              "  .colab-df-quickchart-complete:disabled,\n",
              "  .colab-df-quickchart-complete:disabled:hover {\n",
              "    background-color: var(--disabled-bg-color);\n",
              "    fill: var(--disabled-fill-color);\n",
              "    box-shadow: none;\n",
              "  }\n",
              "\n",
              "  .colab-df-spinner {\n",
              "    border: 2px solid var(--fill-color);\n",
              "    border-color: transparent;\n",
              "    border-bottom-color: var(--fill-color);\n",
              "    animation:\n",
              "      spin 1s steps(1) infinite;\n",
              "  }\n",
              "\n",
              "  @keyframes spin {\n",
              "    0% {\n",
              "      border-color: transparent;\n",
              "      border-bottom-color: var(--fill-color);\n",
              "      border-left-color: var(--fill-color);\n",
              "    }\n",
              "    20% {\n",
              "      border-color: transparent;\n",
              "      border-left-color: var(--fill-color);\n",
              "      border-top-color: var(--fill-color);\n",
              "    }\n",
              "    30% {\n",
              "      border-color: transparent;\n",
              "      border-left-color: var(--fill-color);\n",
              "      border-top-color: var(--fill-color);\n",
              "      border-right-color: var(--fill-color);\n",
              "    }\n",
              "    40% {\n",
              "      border-color: transparent;\n",
              "      border-right-color: var(--fill-color);\n",
              "      border-top-color: var(--fill-color);\n",
              "    }\n",
              "    60% {\n",
              "      border-color: transparent;\n",
              "      border-right-color: var(--fill-color);\n",
              "    }\n",
              "    80% {\n",
              "      border-color: transparent;\n",
              "      border-right-color: var(--fill-color);\n",
              "      border-bottom-color: var(--fill-color);\n",
              "    }\n",
              "    90% {\n",
              "      border-color: transparent;\n",
              "      border-bottom-color: var(--fill-color);\n",
              "    }\n",
              "  }\n",
              "</style>\n",
              "\n",
              "  <script>\n",
              "    async function quickchart(key) {\n",
              "      const quickchartButtonEl =\n",
              "        document.querySelector('#' + key + ' button');\n",
              "      quickchartButtonEl.disabled = true;  // To prevent multiple clicks.\n",
              "      quickchartButtonEl.classList.add('colab-df-spinner');\n",
              "      try {\n",
              "        const charts = await google.colab.kernel.invokeFunction(\n",
              "            'suggestCharts', [key], {});\n",
              "      } catch (error) {\n",
              "        console.error('Error during call to suggestCharts:', error);\n",
              "      }\n",
              "      quickchartButtonEl.classList.remove('colab-df-spinner');\n",
              "      quickchartButtonEl.classList.add('colab-df-quickchart-complete');\n",
              "    }\n",
              "    (() => {\n",
              "      let quickchartButtonEl =\n",
              "        document.querySelector('#df-bbca56bf-8068-4b56-ae40-d5676a0461f8 button');\n",
              "      quickchartButtonEl.style.display =\n",
              "        google.colab.kernel.accessAllowed ? 'block' : 'none';\n",
              "    })();\n",
              "  </script>\n",
              "</div>\n",
              "    </div>\n",
              "  </div>\n"
            ]
          },
          "metadata": {},
          "execution_count": 3
        }
      ]
    },
    {
      "cell_type": "markdown",
      "source": [
        "# Data Cleaning and Preprocessing"
      ],
      "metadata": {
        "id": "qBtr3ddJYhii"
      }
    },
    {
      "cell_type": "code",
      "source": [
        "# Calculating and checking for Null values\n",
        "\n",
        "null_values = final_df.isnull().sum()\n",
        "print(\"Number of NULL values in each column:\")\n",
        "print(null_values)"
      ],
      "metadata": {
        "colab": {
          "base_uri": "https://localhost:8080/"
        },
        "id": "GZ_g8me0WOz7",
        "outputId": "b6ed4d0b-4784-42dd-a7ce-7de85150b37a"
      },
      "execution_count": null,
      "outputs": [
        {
          "output_type": "stream",
          "name": "stdout",
          "text": [
            "Number of NULL values in each column:\n",
            "DATE                        3\n",
            "Population                  3\n",
            "Interest Rate               3\n",
            "Inflation                   3\n",
            "Unemployment Percentage     3\n",
            "Median Family Income       11\n",
            "SP500                       3\n",
            "GDP                         2\n",
            "CSUSHPISA                   3\n",
            "dtype: int64\n"
          ]
        }
      ]
    },
    {
      "cell_type": "code",
      "source": [
        "# Checking Rows with Null values\n",
        "\n",
        "rows_with_null = final_df[final_df.isnull().any(axis=1)]\n",
        "print(\"Rows with NULL values:\")\n",
        "print(rows_with_null)"
      ],
      "metadata": {
        "colab": {
          "base_uri": "https://localhost:8080/"
        },
        "id": "kOSt_X9CW4r4",
        "outputId": "a07c1e68-d091-43f1-d2ad-a5f750ce8b16"
      },
      "execution_count": null,
      "outputs": [
        {
          "output_type": "stream",
          "name": "stdout",
          "text": [
            "Rows with NULL values:\n",
            "           DATE  Population  Interest Rate  Inflation  \\\n",
            "240  2023-01-01    265962.0         6.2725   2.237000   \n",
            "241  2023-02-01    266112.0         6.2575   2.333684   \n",
            "242  2023-03-01    266272.0         6.5440   2.302174   \n",
            "243  2023-04-01    266443.0         6.3425   2.266500   \n",
            "244  2023-05-01    266618.0         6.4250   2.213636   \n",
            "245  2023-06-01    266801.0         6.7140   2.200476   \n",
            "246  2023-07-01    267002.0         6.8400   2.296500   \n",
            "247  2023-08-01    267213.0         7.0720   2.335217   \n",
            "248         NaN         NaN            NaN        NaN   \n",
            "249         NaN         NaN            NaN        NaN   \n",
            "250         NaN         NaN            NaN        NaN   \n",
            "\n",
            "     Unemployment Percentage  Median Family Income     SP500        GDP  \\\n",
            "240                      3.4                   NaN  4,076.60  26813.601   \n",
            "241                      3.6                   NaN  3,970.15  26813.601   \n",
            "242                      3.5                   NaN  4,109.31  26813.601   \n",
            "243                      3.4                   NaN  4,169.48  27063.012   \n",
            "244                      3.7                   NaN  4,179.83  27063.012   \n",
            "245                      3.6                   NaN  4,450.38  27063.012   \n",
            "246                      3.5                   NaN  4,588.96  27623.543   \n",
            "247                      3.8                   NaN  4,507.66  27623.543   \n",
            "248                      NaN                   NaN       NaN        NaN   \n",
            "249                      NaN                   NaN       NaN        NaN   \n",
            "250                      NaN                   NaN       NaN              \n",
            "\n",
            "     CSUSHPISA  \n",
            "240    297.025  \n",
            "241    297.464  \n",
            "242    298.539  \n",
            "243    300.198  \n",
            "244    302.620  \n",
            "245    304.651  \n",
            "246    306.634  \n",
            "247    309.404  \n",
            "248        NaN  \n",
            "249        NaN  \n",
            "250        NaN  \n"
          ]
        }
      ]
    },
    {
      "cell_type": "code",
      "source": [
        "# Dropping the last three Empty rows\n",
        "\n",
        "final_df = final_df.iloc[:-3]"
      ],
      "metadata": {
        "id": "n-5x3mqPXuUq"
      },
      "execution_count": null,
      "outputs": []
    },
    {
      "cell_type": "code",
      "source": [
        "# As Median Income for Final year was not avaliable, Using Linear Interpolation to Fill those values\n",
        "\n",
        "final_df[\"Median Family Income\"].interpolate(method=\"linear\", inplace=True)"
      ],
      "metadata": {
        "colab": {
          "base_uri": "https://localhost:8080/"
        },
        "id": "Fx097YUQYOgn",
        "outputId": "58ed039f-9977-42b7-c602-1a3902222daa"
      },
      "execution_count": null,
      "outputs": [
        {
          "output_type": "stream",
          "name": "stderr",
          "text": [
            "<ipython-input-7-fcfc427a12ad>:3: SettingWithCopyWarning: \n",
            "A value is trying to be set on a copy of a slice from a DataFrame\n",
            "\n",
            "See the caveats in the documentation: https://pandas.pydata.org/pandas-docs/stable/user_guide/indexing.html#returning-a-view-versus-a-copy\n",
            "  final_df[\"Median Family Income\"].interpolate(method=\"linear\", inplace=True)\n"
          ]
        }
      ]
    },
    {
      "cell_type": "code",
      "source": [
        "null_values = final_df.isnull().sum()\n",
        "print(\"Number of NULL values in each column:\")\n",
        "print(null_values)"
      ],
      "metadata": {
        "colab": {
          "base_uri": "https://localhost:8080/"
        },
        "id": "58fli-6kYVFv",
        "outputId": "fe153463-a77d-44ae-eb35-63480c219cf4"
      },
      "execution_count": null,
      "outputs": [
        {
          "output_type": "stream",
          "name": "stdout",
          "text": [
            "Number of NULL values in each column:\n",
            "DATE                       0\n",
            "Population                 0\n",
            "Interest Rate              0\n",
            "Inflation                  0\n",
            "Unemployment Percentage    0\n",
            "Median Family Income       0\n",
            "SP500                      0\n",
            "GDP                        0\n",
            "CSUSHPISA                  0\n",
            "dtype: int64\n"
          ]
        }
      ]
    },
    {
      "cell_type": "code",
      "source": [
        "print(final_df.dtypes)"
      ],
      "metadata": {
        "colab": {
          "base_uri": "https://localhost:8080/"
        },
        "id": "9uplP8MZb0ql",
        "outputId": "3330ed7c-937f-44c8-bc83-0c32dee50bbd"
      },
      "execution_count": null,
      "outputs": [
        {
          "output_type": "stream",
          "name": "stdout",
          "text": [
            "DATE                        object\n",
            "Population                 float64\n",
            "Interest Rate              float64\n",
            "Inflation                  float64\n",
            "Unemployment Percentage    float64\n",
            "Median Family Income       float64\n",
            "SP500                       object\n",
            "GDP                         object\n",
            "CSUSHPISA                  float64\n",
            "dtype: object\n"
          ]
        }
      ]
    },
    {
      "cell_type": "code",
      "source": [
        "# Converting Object Datatypes into Numeric DataTypes\n",
        "\n",
        "# As SP500 Column has a , in numeric values, first removing that\n",
        "final_df['SP500'] = final_df['SP500'].str.replace(',', '').astype(float)\n",
        "\n",
        "columns_to_convert = ['SP500', 'GDP']\n",
        "\n",
        "for column in columns_to_convert:\n",
        "    final_df[column] = pd.to_numeric(final_df[column])"
      ],
      "metadata": {
        "colab": {
          "base_uri": "https://localhost:8080/"
        },
        "id": "rlX8W6nicZlo",
        "outputId": "2055ecbc-b060-43b5-8865-b4237347fe5e"
      },
      "execution_count": null,
      "outputs": [
        {
          "output_type": "stream",
          "name": "stderr",
          "text": [
            "<ipython-input-10-9b04675f131c>:4: SettingWithCopyWarning: \n",
            "A value is trying to be set on a copy of a slice from a DataFrame.\n",
            "Try using .loc[row_indexer,col_indexer] = value instead\n",
            "\n",
            "See the caveats in the documentation: https://pandas.pydata.org/pandas-docs/stable/user_guide/indexing.html#returning-a-view-versus-a-copy\n",
            "  final_df['SP500'] = final_df['SP500'].str.replace(',', '').astype(float)\n",
            "<ipython-input-10-9b04675f131c>:9: SettingWithCopyWarning: \n",
            "A value is trying to be set on a copy of a slice from a DataFrame.\n",
            "Try using .loc[row_indexer,col_indexer] = value instead\n",
            "\n",
            "See the caveats in the documentation: https://pandas.pydata.org/pandas-docs/stable/user_guide/indexing.html#returning-a-view-versus-a-copy\n",
            "  final_df[column] = pd.to_numeric(final_df[column])\n"
          ]
        }
      ]
    },
    {
      "cell_type": "code",
      "source": [
        "print(final_df.dtypes)"
      ],
      "metadata": {
        "colab": {
          "base_uri": "https://localhost:8080/"
        },
        "id": "ojeVZApIc8xg",
        "outputId": "44ace138-4ddc-4d48-dd55-462c19e1dce3"
      },
      "execution_count": null,
      "outputs": [
        {
          "output_type": "stream",
          "name": "stdout",
          "text": [
            "DATE                        object\n",
            "Population                 float64\n",
            "Interest Rate              float64\n",
            "Inflation                  float64\n",
            "Unemployment Percentage    float64\n",
            "Median Family Income       float64\n",
            "SP500                      float64\n",
            "GDP                        float64\n",
            "CSUSHPISA                  float64\n",
            "dtype: object\n"
          ]
        }
      ]
    },
    {
      "cell_type": "markdown",
      "source": [
        "# Checking for Impact of each of these columns of Final Housing Price\n",
        "\n",
        "**Correlation, Linear Regression, ANOVA and Random Forest Feature Importance**"
      ],
      "metadata": {
        "id": "dIZZNLR_ZLIg"
      }
    },
    {
      "cell_type": "code",
      "source": [
        "correlation_matrix = final_df.corr()\n",
        "\n",
        "# Extract the correlation coefficients for the \"CSUSHPISA\" column\n",
        "correlation_with_housing_price = correlation_matrix[\"CSUSHPISA\"]\n",
        "print(\"Pearson Correlation with Housing Price (CSUSHPISA):\")\n",
        "print(correlation_with_housing_price)"
      ],
      "metadata": {
        "colab": {
          "base_uri": "https://localhost:8080/"
        },
        "id": "fRpRlxaoa8BK",
        "outputId": "b3af9bca-c94c-48ad-d8b7-414c3faafaee"
      },
      "execution_count": null,
      "outputs": [
        {
          "output_type": "stream",
          "name": "stdout",
          "text": [
            "Pearson Correlation with Housing Price (CSUSHPISA):\n",
            "Population                 0.739373\n",
            "Interest Rate             -0.047991\n",
            "Inflation                  0.142515\n",
            "Unemployment Percentage   -0.535753\n",
            "Median Family Income       0.892649\n",
            "SP500                      0.931535\n",
            "GDP                        0.884637\n",
            "CSUSHPISA                  1.000000\n",
            "Name: CSUSHPISA, dtype: float64\n"
          ]
        },
        {
          "output_type": "stream",
          "name": "stderr",
          "text": [
            "<ipython-input-12-574779f69d67>:1: FutureWarning: The default value of numeric_only in DataFrame.corr is deprecated. In a future version, it will default to False. Select only valid columns or specify the value of numeric_only to silence this warning.\n",
            "  correlation_matrix = final_df.corr()\n"
          ]
        }
      ]
    },
    {
      "cell_type": "code",
      "source": [
        "# Implementing Linear Regression\n",
        "\n",
        "from sklearn.linear_model import LinearRegression\n",
        "from sklearn.model_selection import train_test_split\n",
        "\n",
        "X = final_df[['Population', 'Interest Rate', 'Inflation', 'Unemployment Percentage', 'Median Family Income', 'SP500','GDP']]\n",
        "y = final_df['CSUSHPISA']\n",
        "\n",
        "X_train, X_test, y_train, y_test = train_test_split(X, y, test_size=0.2, random_state=42)\n",
        "\n",
        "model = LinearRegression()\n",
        "model.fit(X_train, y_train)\n",
        "\n",
        "# Getting the coefficients (impact) of each feature\n",
        "coefficients = model.coef_\n",
        "\n",
        "print(\"Coefficients (Impact of Features):\")\n",
        "for feature, coefficient in zip(X.columns, coefficients):\n",
        "    print(f\"{feature}: {coefficient}\")\n"
      ],
      "metadata": {
        "colab": {
          "base_uri": "https://localhost:8080/"
        },
        "id": "h8HjFNlQghoL",
        "outputId": "2cb39899-db7f-496c-e34d-d824d7d17544"
      },
      "execution_count": null,
      "outputs": [
        {
          "output_type": "stream",
          "name": "stdout",
          "text": [
            "Coefficients (Impact of Features):\n",
            "Population: -0.002018926364403867\n",
            "Interest Rate: 8.559294149451542\n",
            "Inflation: -0.2836051028624317\n",
            "Unemployment Percentage: -0.07391112161791825\n",
            "Median Family Income: 0.0024308792441072313\n",
            "SP500: 0.023926675527280006\n",
            "GDP: 0.005861130220022659\n"
          ]
        }
      ]
    },
    {
      "cell_type": "code",
      "source": [
        "# Implementing one-way ANOVA\n",
        "\n",
        "from scipy.stats import f_oneway\n",
        "\n",
        "features = ['Population', 'Interest Rate', 'Inflation', 'Unemployment Percentage', 'Median Family Income', 'SP500','GDP']\n",
        "\n",
        "for feature in features:\n",
        "    # Group the data by the feature\n",
        "    groups = final_df.groupby(feature)\n",
        "\n",
        "    # Extract the housing price data for each group\n",
        "    data = [group[1]['CSUSHPISA'] for group in groups]\n",
        "\n",
        "    # Perform one-way ANOVA\n",
        "    f_statistic, p_value = f_oneway(*data)\n",
        "\n",
        "    # Display the feature name and its ANOVA p-value\n",
        "    print(f\"Feature: {feature}\")\n",
        "    print(\"ANOVA p-value:\", p_value)\n"
      ],
      "metadata": {
        "colab": {
          "base_uri": "https://localhost:8080/"
        },
        "id": "NhJWdberPOhV",
        "outputId": "3d707845-97b8-4267-c12e-06eeb21978c9"
      },
      "execution_count": null,
      "outputs": [
        {
          "output_type": "stream",
          "name": "stdout",
          "text": [
            "Feature: Population\n",
            "ANOVA p-value: nan\n",
            "Feature: Interest Rate\n",
            "ANOVA p-value: 0.7406117493368806\n",
            "Feature: Inflation\n",
            "ANOVA p-value: 0.1543963017172223\n",
            "Feature: Unemployment Percentage\n",
            "ANOVA p-value: 9.087364406653531e-21\n",
            "Feature: Median Family Income\n",
            "ANOVA p-value: 9.49438884794728e-211\n",
            "Feature: SP500\n",
            "ANOVA p-value: nan\n",
            "Feature: GDP\n",
            "ANOVA p-value: 2.526899120789098e-224\n"
          ]
        },
        {
          "output_type": "stream",
          "name": "stderr",
          "text": [
            "/usr/local/lib/python3.10/dist-packages/scipy/stats/_stats_py.py:4141: DegenerateDataWarning: all input arrays have length 1.  f_oneway requires that at least one input has length greater than 1.\n",
            "  warnings.warn(stats.DegenerateDataWarning(msg))\n",
            "/usr/local/lib/python3.10/dist-packages/scipy/stats/_stats_py.py:4141: DegenerateDataWarning: all input arrays have length 1.  f_oneway requires that at least one input has length greater than 1.\n",
            "  warnings.warn(stats.DegenerateDataWarning(msg))\n"
          ]
        }
      ]
    },
    {
      "cell_type": "code",
      "source": [
        "# Implementing Random Forest Regression\n",
        "\n",
        "from sklearn.ensemble import RandomForestRegressor\n",
        "\n",
        "X = final_df[['Population', 'Interest Rate', 'Inflation', 'Unemployment Percentage', 'Median Family Income', 'SP500','GDP']]\n",
        "y = final_df['CSUSHPISA']\n",
        "\n",
        "model = RandomForestRegressor(n_estimators=100, random_state=42)\n",
        "model.fit(X, y)\n",
        "\n",
        "feature_importance = model.feature_importances_\n",
        "\n",
        "# Display feature importance scores\n",
        "print(\"Feature Importance:\")\n",
        "for feature, importance in zip(X.columns, feature_importance):\n",
        "    print(f\"{feature}: {importance}\")\n"
      ],
      "metadata": {
        "colab": {
          "base_uri": "https://localhost:8080/"
        },
        "id": "rJ2XkJVpQ8Yh",
        "outputId": "43152459-512d-4fab-d15c-0b77a1c7023e"
      },
      "execution_count": null,
      "outputs": [
        {
          "output_type": "stream",
          "name": "stdout",
          "text": [
            "Feature Importance:\n",
            "Population: 0.4771772309094921\n",
            "Interest Rate: 0.01074882943304159\n",
            "Inflation: 0.0015672180810437357\n",
            "Unemployment Percentage: 0.11352697052230477\n",
            "Median Family Income: 0.038164086493545205\n",
            "SP500: 0.13494514137981645\n",
            "GDP: 0.2238705231807562\n"
          ]
        }
      ]
    }
  ]
}