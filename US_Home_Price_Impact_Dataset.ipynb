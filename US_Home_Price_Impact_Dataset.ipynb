{
  "nbformat": 4,
  "nbformat_minor": 0,
  "metadata": {
    "colab": {
      "provenance": [],
      "toc_visible": true
    },
    "kernelspec": {
      "name": "python3",
      "display_name": "Python 3"
    },
    "language_info": {
      "name": "python"
    }
  },
  "cells": [
    {
      "cell_type": "code",
      "execution_count": null,
      "metadata": {
        "id": "Qu5AN9OSKV8W"
      },
      "outputs": [],
      "source": [
        "import pandas as pd\n",
        "import numpy as np"
      ]
    },
    {
      "cell_type": "markdown",
      "source": [
        "# Importing FIles"
      ],
      "metadata": {
        "id": "2jgVilMK0Z4Z"
      }
    },
    {
      "cell_type": "code",
      "source": [
        "file_paths = {\n",
        "    \"Civilian Population\": \"/content/drive/MyDrive/Housing Datasets/CNP16OV.csv\",\n",
        "    \"GDP\": \"/content/drive/MyDrive/Housing Datasets/GDP.csv\",\n",
        "    \"Median Income\": \"/content/drive/MyDrive/Housing Datasets/MEHOINUSA646N.csv\",\n",
        "    \"30-Year Fixed Mortgage\": \"/content/drive/MyDrive/Housing Datasets/MORTGAGE30US.csv\",\n",
        "    \"S&P 500 Index\": \"/content/drive/MyDrive/Housing Datasets/S&P 500 Monthly Index.csv\",\n",
        "    \"10-Year Breakeven Inflation\": \"/content/drive/MyDrive/Housing Datasets/T10YIE.csv\",\n",
        "    \"Unemployment Percentage\": \"/content/drive/MyDrive/Housing Datasets/UNRATE.csv\",\n",
        "    \"Case-Shiller Home Index\": \"/content/drive/MyDrive/Housing Datasets/CSUSHPISA.csv\"\n",
        "}\n",
        "\n",
        "# Creating an empty dictionary to store the dataframes\n",
        "dataframes = {}\n",
        "\n",
        "for feature, file_path in file_paths.items():\n",
        "    dataframes[feature] = pd.read_csv(file_path)"
      ],
      "metadata": {
        "id": "0lX3cO_hLhbf"
      },
      "execution_count": null,
      "outputs": []
    },
    {
      "cell_type": "code",
      "source": [
        "for feature, df in dataframes.items():\n",
        "    print(f\"*** {feature} ***\")\n",
        "    print(df.head())\n",
        "    print(df.tail())\n",
        "    print(\"\\n\")"
      ],
      "metadata": {
        "colab": {
          "base_uri": "https://localhost:8080/"
        },
        "id": "W0AU3hGWOw_u",
        "outputId": "a5bf238c-d249-4be6-f0a4-a1daddf3d1a1"
      },
      "execution_count": null,
      "outputs": [
        {
          "output_type": "stream",
          "name": "stdout",
          "text": [
            "*** Civilian Population ***\n",
            "         DATE  CNP16OV\n",
            "0  2003-01-01   219897\n",
            "1  2003-02-01   220114\n",
            "2  2003-03-01   220317\n",
            "3  2003-04-01   220540\n",
            "4  2003-05-01   220768\n",
            "           DATE  CNP16OV\n",
            "245  2023-06-01   266801\n",
            "246  2023-07-01   267002\n",
            "247  2023-08-01   267213\n",
            "248  2023-09-01   267428\n",
            "249  2023-10-01   267642\n",
            "\n",
            "\n",
            "*** GDP ***\n",
            "         DATE        GDP\n",
            "0  2003-01-01  11174.129\n",
            "1  2003-04-01  11312.766\n",
            "2  2003-07-01  11566.669\n",
            "3  2003-10-01  11772.234\n",
            "4  2004-01-01  11923.447\n",
            "          DATE        GDP\n",
            "78  2022-07-01  25994.639\n",
            "79  2022-10-01  26408.405\n",
            "80  2023-01-01  26813.601\n",
            "81  2023-04-01  27063.012\n",
            "82  2023-07-01  27623.543\n",
            "\n",
            "\n",
            "*** Median Income ***\n",
            "         DATE  MEHOINUSA646N\n",
            "0  2002-01-01          42410\n",
            "1  2003-01-01          43320\n",
            "2  2004-01-01          44330\n",
            "3  2005-01-01          46330\n",
            "4  2006-01-01          48200\n",
            "          DATE  MEHOINUSA646N\n",
            "16  2018-01-01          63180\n",
            "17  2019-01-01          68700\n",
            "18  2020-01-01          68010\n",
            "19  2021-01-01          70780\n",
            "20  2022-01-01          74580\n",
            "\n",
            "\n",
            "*** 30-Year Fixed Mortgage ***\n",
            "         DATE  MORTGAGE30US\n",
            "0  2002-01-01        6.9975\n",
            "1  2002-02-01        6.8925\n",
            "2  2002-03-01        7.0140\n",
            "3  2002-04-01        6.9850\n",
            "4  2002-05-01        6.8060\n",
            "           DATE  MORTGAGE30US\n",
            "257  2023-06-01         6.714\n",
            "258  2023-07-01         6.840\n",
            "259  2023-08-01         7.072\n",
            "260  2023-09-01         7.200\n",
            "261  2023-10-01         7.620\n",
            "\n",
            "\n",
            "*** S&P 500 Index ***\n",
            "           Date      Open      High       Low    Close* Adj Close**  \\\n",
            "0  Nov 06, 2023  4,364.27  4,372.21  4,347.53  4,365.98    4,365.98   \n",
            "1  Oct 31, 2023  4,201.27  4,373.62  4,197.74  4,365.98    4,365.98   \n",
            "2  Sep 30, 2023  4,284.52  4,393.57  4,103.78  4,193.80    4,193.80   \n",
            "3  Aug 31, 2023  4,530.60  4,541.25  4,238.63  4,288.05    4,288.05   \n",
            "4  Jul 31, 2023  4,578.83  4,584.62  4,335.31  4,507.66    4,507.66   \n",
            "\n",
            "           Volume  \n",
            "0   2,177,065,000  \n",
            "1  17,121,980,000  \n",
            "2  79,952,900,000  \n",
            "3  73,482,980,000  \n",
            "4  86,840,820,000  \n",
            "             Date      Open      High       Low    Close* Adj Close**  \\\n",
            "258  May 31, 2002  1,067.14  1,070.74    952.92    989.82      989.82   \n",
            "259  Apr 30, 2002  1,076.92  1,106.59  1,048.96  1,067.14    1,067.14   \n",
            "260  Apr 01, 2002  1,147.39  1,147.84  1,063.46  1,076.92    1,076.92   \n",
            "261  Mar 01, 2002  1,106.73  1,173.94  1,106.73  1,147.39    1,147.39   \n",
            "262  Feb 01, 2002  1,130.20  1,130.20  1,074.36  1,106.73    1,106.73   \n",
            "\n",
            "             Volume  \n",
            "258  29,981,510,000  \n",
            "259  26,905,500,000  \n",
            "260  28,568,900,000  \n",
            "261  26,563,200,000  \n",
            "262  26,047,600,000  \n",
            "\n",
            "\n",
            "*** 10-Year Breakeven Inflation ***\n",
            "         DATE    T10YIE\n",
            "0  2003-01-01  1.754286\n",
            "1  2003-02-01  1.912632\n",
            "2  2003-03-01  1.862857\n",
            "3  2003-04-01  1.774762\n",
            "4  2003-05-01  1.660952\n",
            "           DATE    T10YIE\n",
            "245  2023-06-01  2.200476\n",
            "246  2023-07-01  2.296500\n",
            "247  2023-08-01  2.335217\n",
            "248  2023-09-01  2.342000\n",
            "249  2023-10-01  2.386190\n",
            "\n",
            "\n",
            "*** Unemployment Percentage ***\n",
            "         DATE  UNRATE\n",
            "0  2003-01-01     5.8\n",
            "1  2003-02-01     5.9\n",
            "2  2003-03-01     5.9\n",
            "3  2003-04-01     6.0\n",
            "4  2003-05-01     6.1\n",
            "           DATE  UNRATE\n",
            "243  2023-04-01     3.4\n",
            "244  2023-05-01     3.7\n",
            "245  2023-06-01     3.6\n",
            "246  2023-07-01     3.5\n",
            "247  2023-08-01     3.8\n",
            "\n",
            "\n",
            "*** Case-Shiller Home Index ***\n",
            "         DATE  CSUSHPISA\n",
            "0  1987-01-01     63.965\n",
            "1  1987-02-01     64.424\n",
            "2  1987-03-01     64.736\n",
            "3  1987-04-01     65.132\n",
            "4  1987-05-01     65.563\n",
            "           DATE  CSUSHPISA\n",
            "435  2023-04-01    300.198\n",
            "436  2023-05-01    302.620\n",
            "437  2023-06-01    304.651\n",
            "438  2023-07-01    306.634\n",
            "439  2023-08-01    309.404\n",
            "\n",
            "\n"
          ]
        }
      ]
    },
    {
      "cell_type": "markdown",
      "source": [
        "# Merging Relevant Columns"
      ],
      "metadata": {
        "id": "PNxZVHeb0hf9"
      }
    },
    {
      "cell_type": "code",
      "source": [
        "columns_to_merge = [\"CNP16OV\",  \"30-Year Fixed Mortgage\", \"10-Year Breakeven Inflation\", \"Unemployment Percentage\", \"Case-Shiller Home Index\"]\n",
        "\n",
        "final_df = dataframes[\"Civilian Population\"].set_index(\"DATE\")\n",
        "\n",
        "for feature in columns_to_merge:\n",
        "    if feature != \"CNP16OV\":\n",
        "        # Set the date column as the index for the current dataframe\n",
        "        current_df = dataframes[feature].set_index(\"DATE\")\n",
        "\n",
        "        # Merge the current dataframe with the final dataframe, keeping only rows with common dates\n",
        "        final_df = final_df.join(current_df, how=\"inner\", rsuffix=f\" ({feature})\")\n",
        "\n",
        "final_df.reset_index(inplace=True)\n",
        "print(final_df.head())\n"
      ],
      "metadata": {
        "colab": {
          "base_uri": "https://localhost:8080/"
        },
        "id": "al-BkJHFQ0D8",
        "outputId": "77978aba-6903-4ded-e7c7-e0d28202c654"
      },
      "execution_count": null,
      "outputs": [
        {
          "output_type": "stream",
          "name": "stdout",
          "text": [
            "         DATE  CNP16OV  MORTGAGE30US    T10YIE  UNRATE  CSUSHPISA\n",
            "0  2003-01-01   219897        5.9160  1.754286     5.8    128.461\n",
            "1  2003-02-01   220114        5.8425  1.912632     5.9    129.355\n",
            "2  2003-03-01   220317        5.7450  1.862857     5.9    130.148\n",
            "3  2003-04-01   220540        5.8125  1.774762     6.0    130.884\n",
            "4  2003-05-01   220768        5.4840  1.660952     6.1    131.735\n"
          ]
        }
      ]
    },
    {
      "cell_type": "code",
      "source": [
        "print(final_df.tail())"
      ],
      "metadata": {
        "colab": {
          "base_uri": "https://localhost:8080/"
        },
        "id": "Fu2HHxAzSa1P",
        "outputId": "00acba4b-1aae-454a-b02e-ac3c6f4099d9"
      },
      "execution_count": null,
      "outputs": [
        {
          "output_type": "stream",
          "name": "stdout",
          "text": [
            "           DATE  CNP16OV  MORTGAGE30US    T10YIE  UNRATE  CSUSHPISA\n",
            "243  2023-04-01   266443        6.3425  2.266500     3.4    300.198\n",
            "244  2023-05-01   266618        6.4250  2.213636     3.7    302.620\n",
            "245  2023-06-01   266801        6.7140  2.200476     3.6    304.651\n",
            "246  2023-07-01   267002        6.8400  2.296500     3.5    306.634\n",
            "247  2023-08-01   267213        7.0720  2.335217     3.8    309.404\n"
          ]
        }
      ]
    },
    {
      "cell_type": "markdown",
      "source": [
        "# Exporting the Draft Dataset"
      ],
      "metadata": {
        "id": "PQ7bfuS60rfN"
      }
    },
    {
      "cell_type": "code",
      "source": [
        "final_df.to_csv(\"final_dataset.csv\", index=False)"
      ],
      "metadata": {
        "id": "Gyg2L1kE7KrT"
      },
      "execution_count": null,
      "outputs": []
    }
  ]
}